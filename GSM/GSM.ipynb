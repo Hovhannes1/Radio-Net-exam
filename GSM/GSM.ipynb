{
 "cells": [
  {
   "cell_type": "markdown",
   "id": "7b08a80d",
   "metadata": {},
   "source": [
    "# RI 53 Radio Network - GSM"
   ]
  },
  {
   "cell_type": "markdown",
   "id": "bce50328",
   "metadata": {},
   "source": [
    "# Exercise 1:\n",
    "\n",
    "A total of 33 MHz bandwidth is allocated to a Cellular System. If the simplex Voice/Control Channel bandwidth is 25 kHz, calculate the total number of Channels available per Cell if the System uses.\n",
    "\n",
    "a. 4-Cell Frequency Reuse Plan.\n",
    "\n",
    "b. 7-Cell Frequency-Reuse Plan."
   ]
  },
  {
   "cell_type": "markdown",
   "id": "718ce4f4",
   "metadata": {},
   "source": [
    "# solution Text 1:"
   ]
  },
  {
   "cell_type": "markdown",
   "id": "b8758d12",
   "metadata": {},
   "source": [
    "We have two simplex channels, one for voice and one for control, each using 25Khz bandwidth. The bandwidth for the duplex channel is therefore 2 × 25Khz = 50KHz. \n",
    "\n",
    "The total bandwidth being 33Mhz, the number of available channels is = 33*10^3(Mhz to Khz conversion)/50 => 33000 / 50 = 660 duplex channels.\n",
    "\n",
    "a. 660 / 4 = 165 channels available per cell\n",
    "\n",
    "b. 660 / 7 = 94 channels available per cell"
   ]
  },
  {
   "cell_type": "code",
   "execution_count": 6,
   "id": "7c21c75e",
   "metadata": {},
   "outputs": [
    {
     "name": "stdout",
     "output_type": "stream",
     "text": [
      "Available channels: 660.0\n",
      "Channels per cell for 4  reuse plan: 165.0\n",
      "--------------------\n",
      "Channels per cell for 7  reuse plan: 94.28571428571429\n"
     ]
    }
   ],
   "source": [
    "totalBandwith = 33 # MHz\n",
    "bandwidth = 25 #KHz\n",
    "duplexBandwidth = bandwidth * 2 #KHz\n",
    "\n",
    "# convert totalBandwith to KHz\n",
    "totalBandwithInKHz = totalBandwith * 1000 #KHz\n",
    "\n",
    "#number of available channels is equal to totalBandwithInKHz / duplexBandwidth\n",
    "availableChannels = totalBandwithInKHz / duplexBandwidth\n",
    "print(\"Available channels:\", availableChannels)\n",
    "\n",
    "# A.\n",
    "frequencyReusePlan = 4 # cell\n",
    "# channels available per cell\n",
    "channelsPerCell = availableChannels / frequencyReusePlan\n",
    "print(\"Channels per cell for\", frequencyReusePlan, \" reuse plan:\", channelsPerCell)\n",
    "print(\"--------------------\")\n",
    "\n",
    "# B.\n",
    "frequencyReusePlan = 7 # cell\n",
    "# channels available per cell\n",
    "channelsPerCell = availableChannels / frequencyReusePlan\n",
    "print(\"Channels per cell for\", frequencyReusePlan, \" reuse plan:\", channelsPerCell)\n",
    "\n"
   ]
  },
  {
   "cell_type": "markdown",
   "id": "ecd0c18f",
   "metadata": {},
   "source": [
    "# Exercise 2:\n",
    "\n",
    "To determine voice traffic on a line, we collected the following data during a period of 90 minutes. Calculate the traffic intensity in Erlang.\n",
    "\n",
    "   Call N° 1 2 3 4 5 6 7 8 9 10\n",
    "\n",
    "   Duration of\n",
    "    the call (sec) 60 74 80 90 92 70 96 48 64 126"
   ]
  },
  {
   "cell_type": "markdown",
   "id": "7bd2e3f3",
   "metadata": {},
   "source": [
    "# solution Text 2:\n",
    "\n",
    "60 min => 1h so 90 min => 1,5h\n",
    "\n",
    "We have 10 calls over a 1,5 hour period so the call rate is 10 / 1,5 = 6,67 calls per hour.\n",
    "\n",
    "The average call time is ( 60 + 74 + 80 + 90 + 92 + 70 + 96 + 48 + 64 + 126 ) / 10 = 80 sec\n",
    "\n",
    "The traffic intensity is therefore (6,67 × 80 ) / 3600 = 0,148 Erlangs."
   ]
  },
  {
   "cell_type": "code",
   "execution_count": 7,
   "id": "d2b28f5a",
   "metadata": {},
   "outputs": [
    {
     "name": "stdout",
     "output_type": "stream",
     "text": [
      "timeInHours: 1.5\n",
      "cellRate: 30.666666666666668\n",
      "avarageDuration: 17.391304347826086\n",
      "The traffic intensity is: 0.14814814814814817\n"
     ]
    }
   ],
   "source": [
    "time = 90 # minits\n",
    "timeInHours = time/60\n",
    "print(\"timeInHours: \" + str(timeInHours))\n",
    "\n",
    "celsList = [1,2,3,4,5,6,7,8,9,10]\n",
    "\n",
    "numberOfCells = len(\"numberOfCells: \" + str(celsList))\n",
    "\n",
    "# cell rate is equal to time in hours divided by number of cells\n",
    "cellRate = numberOfCells/timeInHours\n",
    "print(\"cellRate: \" + str(cellRate))\n",
    "\n",
    "durationOfCellsList = [60, 74, 80, 90, 92, 70, 96, 48, 64, 126]\n",
    "# calculate the avarage duration of the cells\n",
    "avarageDuration = sum(durationOfCellsList)/numberOfCells\n",
    "print(\"avarageDuration: \" + str(avarageDuration))\n",
    "\n",
    "\n",
    "#traffic intensity is equal to cels rate times avarage duration divided by 1 hour in seconds\n",
    "trafficIntensity = cellRate*avarageDuration/3600\n",
    "\n",
    "#print the traffic intensity\n",
    "print(\"The traffic intensity is: \" + str(trafficIntensity))"
   ]
  },
  {
   "cell_type": "markdown",
   "id": "933c6762",
   "metadata": {},
   "source": [
    "# Exercise 3:\n",
    "\n",
    "We consider a GSM network consisting of hexagonal cells with a radius R. The distance D of frequency reuse is related to the size of the cluster according to the equation 𝑫 = √𝟑𝑵 ∗ 𝑹 where N is the number of cells in the cluster.\n",
    "\n",
    "a. If N = 4, calculate the number of GSM carriers that an operator with 12.5 MHz can theoretically assign to each cell.\n",
    "\n",
    "b. Estimate the maximum number of subscribers which can expect to accommodate in a cell knowing that an average subscriber has a traffic of 0.03 Erlang per hour."
   ]
  },
  {
   "cell_type": "markdown",
   "id": "a7153ab5",
   "metadata": {},
   "source": [
    "# solution Text 3:\n",
    "\n",
    "1) For the GSM standard, each carrier is separated by 200 kHz or 0,2 MHz. \n",
    "    \n",
    "    So for 12,5 Mhz, there are 12,5 / 0,2 = 62,5 carriers. \n",
    "    So for a cluster of 4 cells, we have 62,5 / 4 = 15,625, \n",
    "    so finally 15 carriers per cell and 7 pairs of communication channels.\n",
    "\n",
    "2) Each carrier manages 8 time slots which can be allocated to 8 simultaneous communications. \n",
    "    \n",
    "    Each communication corresponds to 1 Erlang. For a cell, we therefore have 8 × 7 = 56 Erlang. \n",
    "    The number of subscribers is therefore 56 / 0,03 = 1886.\n"
   ]
  },
  {
   "cell_type": "code",
   "execution_count": 34,
   "id": "fe3e96de",
   "metadata": {},
   "outputs": [
    {
     "name": "stdout",
     "output_type": "stream",
     "text": [
      "carriersPerCell: 15.625\n",
      "numberOfSubscribers: 1866.6666666666667\n"
     ]
    }
   ],
   "source": [
    "# A.\n",
    "standardCarierSeparation = 0.2 # MHz\n",
    "operator = 12.5 # MHz\n",
    "\n",
    "# N is the number of cells in cluster \n",
    "N = 4\n",
    "\n",
    "# calculate the number of carriers assigned to each cell\n",
    "carriersPerCell = operator / (standardCarierSeparation * N)\n",
    "print(\"carriersPerCell: \" + str(carriersPerCell))\n",
    "print(\"--------------------\")\n",
    "\n",
    "# B.\n",
    "# Estimate the maximum number of subscribers which can expect to accommodate in a cell knowing that an average subscriber has a traffic of 0.03 Erlang per hour.\n",
    "trafficIntensity = 0.03 # Erlang\n",
    "numberOfTimeSlotsManagedByCarrier = 8\n",
    "communication = 7\n",
    "\n",
    "# number of subscribers is equal to numberOfTimeSlotsManagedByCarrier times communication divided by trafficIntensity\n",
    "numberOfSubscribers = numberOfTimeSlotsManagedByCarrier * communication / trafficIntensity\n",
    "print(\"numberOfSubscribers: \" + str(numberOfSubscribers))\n",
    "\n"
   ]
  },
  {
   "cell_type": "markdown",
   "id": "3ca1b179",
   "metadata": {},
   "source": [
    "# Exercise 4:\n",
    "\n",
    "a. What is the minimum number of channels needed to serve an area where the potential demand is estimated at 1600 Erlang for a 1% blocking rate?\n",
    "\n",
    "b. What is the minimum number of base stations required and their respective capabilities when the operator has 63 frequencies for a reuse cluster of 9?\n",
    "\n",
    "c. What is the total number of channels? It will be assumed that in each cell 1 time slot is reserved for the BCCH (Broadcast Control CHannel) and 2 time slots are reserved for the SDCCH (Stand-alone Dedicated Control CHannel, a dialog channel to attribute a traffic channel)."
   ]
  },
  {
   "cell_type": "markdown",
   "id": "f84834bd",
   "metadata": {},
   "source": [
    "# solution Text 4:\n",
    "\n",
    "1) For this question, you should normally use the Erlang B formula. But it’s too complex to calculate by hand with the values provided. It is nevertheless possible to use an Erlang B table or a calculator like this: https://owenduffy.net/traffic/erlangb.htm\n",
    "\n",
    "The minimum number of channels required is 1629.\n",
    "\n",
    "2) With 63 frequencies and a reuse pattern of 7, we have 69 / 7 = 7 frequencies per cell.\n",
    "\n",
    "3) Each frequency channel is divided into 8 time slots. \n",
    "    So by cell, we have 7 x 8 = 56 time slots. \n",
    "    If 1 time slot is reserved for the BCCH channel and 2 time slots for the SDCCH channel, 53 time slots remains available for the channels traffic. \n",
    "\n",
    "    The total number of traffic cells is therefore 1629 / 53 = 30,74 or 31 cells or base stations.\n",
    "    By cell, we have 7 frequencies and by frequency, we have 8 channels. So we have: 8 x 7 = 56 \n",
    "    channels per cell (traffic + BCCH + SDCCH). And knowing that the operator has 31 cells, \n",
    "    that makes 56 x 31 = 1736 channels in total."
   ]
  },
  {
   "cell_type": "code",
   "execution_count": 37,
   "id": "5ec5ece0",
   "metadata": {},
   "outputs": [
    {
     "name": "stdout",
     "output_type": "stream",
     "text": [
      "minNumberOfChannelsNeeded: 1629\n",
      "------------------------\n",
      "minNumberOfBaseStations: 7.0\n",
      "--------------------\n",
      "timeSlots: 56.0\n",
      "remainTimeSlots: 53.0\n",
      "totalNumberOfTrafficCells: 31\n",
      "totalChannels: 1736.0\n"
     ]
    }
   ],
   "source": [
    "# A.\n",
    "minNumberOfChannelsNeeded = 1629 # channels\n",
    "print(\"minNumberOfChannelsNeeded: \" + str(minNumberOfChannelsNeeded))\n",
    "print(\"------------------------\")\n",
    "# B.\n",
    "operatorFrequency = 63\n",
    "reuseCluster = 9\n",
    "\n",
    "# calculate min number of base stations\n",
    "minNumberOfBaseStations = operatorFrequency / reuseCluster\n",
    "print(\"minNumberOfBaseStations: \" + str(minNumberOfBaseStations))\n",
    "print(\"--------------------\")\n",
    "\n",
    "# C.\n",
    "BCCH = 1\n",
    "SDCCH = 2\n",
    "\n",
    "eachChannelTimeSlot = 8\n",
    "timeSlots = eachChannelTimeSlot * minNumberOfBaseStations\n",
    "print(\"timeSlots: \" + str(timeSlots))\n",
    "\n",
    "remainTimeSlots = timeSlots - (BCCH + SDCCH)\n",
    "print(\"remainTimeSlots: \" + str(remainTimeSlots))\n",
    "\n",
    "# total number of traffic cells rounded up \n",
    "totalNumberOfTrafficCells = round(minNumberOfChannelsNeeded / remainTimeSlots)\n",
    "print(\"totalNumberOfTrafficCells: \" + str(totalNumberOfTrafficCells))\n",
    "\n",
    "# total channels\n",
    "totalChannels = totalNumberOfTrafficCells * timeSlots\n",
    "print(\"totalChannels: \" + str(totalChannels))\n"
   ]
  },
  {
   "cell_type": "markdown",
   "id": "f9a0ee20",
   "metadata": {},
   "source": [
    "# Exercise 5:\n",
    "\n",
    "An operator serves an area where the potential demand is estimated at 50000 subscribers. The average consumption of all subscribers at the rush hour is 50 mErlang for a quality of service of 1%.\n",
    "\n",
    "a. What is the minimum number of channels used by the operator?\n",
    "\n",
    "b. Calculate the minimum number of base stations and their capabilities when the operator has 63 frequencies for a reuse pattern of 9?\n",
    "\n",
    "c. What is the total number of channels? \n",
    "\n",
    "It will be assumed that in each cell, 1 time slot is reserved for the BCCH and 2 time slots are reserved for SDCCH."
   ]
  },
  {
   "cell_type": "markdown",
   "id": "9f3f8239",
   "metadata": {},
   "source": [
    "# solution Text 5:\n",
    "\n",
    "1) Total trafic A = 50000 x 50.10 -3 = 2500 Erlang With A= 2500 and Pr = 1%, using the same calculator as for exercise 4, the minimum number of channels is 2526.\n",
    "\n",
    "2) Using the same reasoning as for Exercise 4, we have 2526 / 53 = 47,6 or 48 base stations.\n",
    "\n",
    "3) With 48 stations and 56 channels per cell, we have 56 x 48 = 2688 channels in total.\n"
   ]
  },
  {
   "cell_type": "code",
   "execution_count": 5,
   "id": "4ef51813",
   "metadata": {},
   "outputs": [
    {
     "name": "stdout",
     "output_type": "stream",
     "text": [
      "totalTraffic: 2500.0\n",
      "minNumOfChannels: 2526\n",
      "--------------------\n",
      "minNumberOfBaseStations: 7.0\n",
      "timeSlots: 56.0\n",
      "remainTimeSlots: 53.0\n",
      "totalNumberOfTrafficCells: 48\n",
      "--------------------\n",
      "totalChannels: 2688.0\n"
     ]
    }
   ],
   "source": [
    "estimatedSubscribers = 50000\n",
    "avarageConsumption = 50 # mErlang\n",
    "qualityOfService = 1\n",
    "\n",
    "# A.\n",
    "totalTraffic = estimatedSubscribers * 50 * pow(10,-3) # Erlang\n",
    "print(\"totalTraffic: \" + str(totalTraffic))\n",
    "\n",
    "# put it in https://owenduffy.net/traffic/erlangb.htm link with quality of service 1\n",
    "minNumOfChannels = 2526 # channels\n",
    "print(\"minNumOfChannels: \" + str(minNumOfChannels))\n",
    "print(\"--------------------\")\n",
    "\n",
    "# B.\n",
    "operatorFrequency = 63\n",
    "reusePattern = 9\n",
    "\n",
    "minNumberOfBaseStations = operatorFrequency / reusePattern\n",
    "print(\"minNumberOfBaseStations: \" + str(minNumberOfBaseStations))\n",
    "\n",
    "BCCH = 1\n",
    "SDCCH = 2\n",
    "\n",
    "eachChannelTimeSlot = 8\n",
    "timeSlots = eachChannelTimeSlot * minNumberOfBaseStations\n",
    "print(\"timeSlots: \" + str(timeSlots))\n",
    "\n",
    "remainTimeSlots = timeSlots - (BCCH + SDCCH)\n",
    "print(\"remainTimeSlots: \" + str(remainTimeSlots))\n",
    "\n",
    "# total number of traffic cells rounded up \n",
    "totalNumberOfTrafficCells = round(minNumOfChannels / remainTimeSlots)\n",
    "print(\"totalNumberOfTrafficCells: \" + str(totalNumberOfTrafficCells))\n",
    "print(\"--------------------\")\n",
    "\n",
    "# C.\n",
    "# total number of channels\n",
    "totalChannels = totalNumberOfTrafficCells * timeSlots\n",
    "print(\"totalChannels: \" + str(totalChannels))\n"
   ]
  },
  {
   "cell_type": "markdown",
   "id": "90815320",
   "metadata": {},
   "source": [
    "# Exercise 6:\n",
    "\n",
    "We consider a base station of a GSM network. This BTS manages the radio interface for the mobiles of its cell. The radio interface uses the TDMA radio channel access technique, in which the frame contains 16 carriers (available frequencies).\n",
    "\n",
    "The duration of the frame is 4.615ms, and each is divided into 8 time slots.\n",
    "\n",
    "a. If a compressed speech in GSM represents 12 Kbit/s, how many simultaneous communications a cell can it contains at most?\n",
    "\n",
    "b. If a customer wishes to obtain a communication with 64 kbit/s, how many time slots he needs on each frame to reach this throughput?\n",
    "\n",
    "c. Assuming that it is allowed to users to achieve a 1 Megabits/s throughput, how many subscribers are taken in charge simultaneously?\n",
    "\n",
    "d. Assume that two cells overlap each other to avoid communications’ break. Can a mobile pick up the same frequency from the two cells?\n",
    "\n",
    "e. Assume that the mobile captures frequencies these two cells. In the GSM, how does the mobile to choose his cell?"
   ]
  },
  {
   "cell_type": "markdown",
   "id": "791d4361",
   "metadata": {},
   "source": [
    "# solution Text 6:\n",
    "\n",
    "For GSM networks, we have a modulation rate of 270 Kbit/s.\n",
    "\n",
    "1) A time slot corresponds to a voice channel. There are therefore 8 voice channels per carrier and therefore 8 x 16 = 128 users.\n",
    "\n",
    "2) The duration of a single time slot is 4,615 / 8 = 0,576875 ms\n",
    "    \n",
    "    A time slot contains 270 000 x ( 0,577 / 1000 ) = 155,75625 bits\n",
    "\n",
    "    So for a user, we have 155,75625 / 4,615 = 33,75 Kbit/s\n",
    "\n",
    "    So, to get a communication of 64Kbit/s, 64 / 33,75 = 1,89. 2 time slots are therefore necessary.\n",
    "\n",
    "3) 1000 Kbit/s / 33,75 Kbit/s = 29,629 time slots or 4 carriers and therefore 4 users.\n",
    "\n",
    "4) No, a mobile cannot receive the same frequency on the two cells if a TDMA is used because there would be interference. On the other hand, if the technique used is CDMA, it can pick up the same frequency.\n",
    "\n",
    "5) In GSM, the terminal chooses the cell from which the strongest emission comes."
   ]
  },
  {
   "cell_type": "code",
   "execution_count": 15,
   "id": "34b820a1",
   "metadata": {},
   "outputs": [
    {
     "name": "stdout",
     "output_type": "stream",
     "text": [
      "simultaneousCommunications: 128\n",
      "--------------------\n",
      "durattionOfSingleSlot: 0.576875\n",
      "containningBits: 155.75625\n",
      "bitPerDurationFrame: 33.75\n",
      "timeSlotsNeeded: 2\n",
      "--------------------\n",
      "subscribers: 4\n"
     ]
    }
   ],
   "source": [
    "numberOfCarriersInFrame = 16\n",
    "durrationOfFrame = 4.615\n",
    "dividedSlots = 8\n",
    "modulationRate = 270 # KHz/s\n",
    "\n",
    "# A.\n",
    "# simulatanous communications\n",
    "simultaneousCommunications = numberOfCarriersInFrame * dividedSlots\n",
    "print(\"simultaneousCommunications: \" + str(simultaneousCommunications))\n",
    "print(\"--------------------\")\n",
    "\n",
    "# B.\n",
    "# calculate time slots needed for simultaneous communications with 64KHz/s\n",
    "speed = 64 # KHz/s\n",
    "durattionOfSingleSlot = durrationOfFrame / dividedSlots\n",
    "print(\"durattionOfSingleSlot: \" + str(durattionOfSingleSlot))\n",
    "\n",
    "containningBits = 270000 * durattionOfSingleSlot * pow(10,-3) # bits\n",
    "print(\"containningBits: \" + str(containningBits))\n",
    "\n",
    "bitPerDurationFrame = containningBits / durrationOfFrame\n",
    "print(\"bitPerDurationFrame: \" + str(bitPerDurationFrame))\n",
    "\n",
    "timeSlotsNeeded = round(speed / bitPerDurationFrame)\n",
    "print(\"timeSlotsNeeded: \" + str(timeSlotsNeeded))\n",
    "print(\"--------------------\")\n",
    "\n",
    "# C.\n",
    "throughput = 1 # Mbps\n",
    "subscribers = round(throughput * 1000 / (bitPerDurationFrame * dividedSlots))\n",
    "print(\"subscribers: \" + str(subscribers))"
   ]
  }
 ],
 "metadata": {
  "kernelspec": {
   "display_name": "Python 3.7.5 64-bit",
   "language": "python",
   "name": "python3"
  },
  "language_info": {
   "codemirror_mode": {
    "name": "ipython",
    "version": 3
   },
   "file_extension": ".py",
   "mimetype": "text/x-python",
   "name": "python",
   "nbconvert_exporter": "python",
   "pygments_lexer": "ipython3",
   "version": "3.7.5"
  },
  "vscode": {
   "interpreter": {
    "hash": "7b08874d5c92fba3b3e820949b3727219cc0a472ad4f4b20c8b812535e78d79f"
   }
  }
 },
 "nbformat": 4,
 "nbformat_minor": 5
}
